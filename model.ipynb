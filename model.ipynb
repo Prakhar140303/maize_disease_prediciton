{
 "cells": [
  {
   "cell_type": "markdown",
   "id": "883253be",
   "metadata": {},
   "source": [
    "***Data Preprocessing***\n"
   ]
  },
  {
   "cell_type": "code",
   "execution_count": 2,
   "id": "914f2160",
   "metadata": {},
   "outputs": [],
   "source": [
    "import os\n",
    "import cv2\n",
    "import numpy as np\n",
    "import tensorflow as tf\n",
    "import pickle"
   ]
  },
  {
   "cell_type": "code",
   "execution_count": null,
   "id": "bae7fc3d",
   "metadata": {},
   "outputs": [],
   "source": []
  },
  {
   "cell_type": "code",
   "execution_count": 7,
   "id": "6b498174",
   "metadata": {},
   "outputs": [],
   "source": [
    "from tensorflow import keras\n",
    "# from tensorflow.keras.preprocessing.image import ImageDataGenerator\n",
    "# from keras.applications import ImageDataGenerator\n",
    "from keras_preprocessing.image import ImageDataGenerator\n",
    "from sklearn.model_selection import train_test_split\n",
    "from tqdm import tqdm"
   ]
  },
  {
   "cell_type": "code",
   "execution_count": 8,
   "id": "43900762",
   "metadata": {},
   "outputs": [],
   "source": [
    "# Define dataset path\n",
    "DATASET_PATH = \"data\"  # Change this to your dataset folder\n"
   ]
  },
  {
   "cell_type": "code",
   "execution_count": 9,
   "id": "879a8e2a",
   "metadata": {},
   "outputs": [],
   "source": [
    "# Define categories (same as your folder names)\n",
    "CATEGORIES = [\"Blight\", \"Common_Rust\", \"Gray_Leaf_Spot\", \"Healthy\"]\n",
    "\n"
   ]
  },
  {
   "cell_type": "code",
   "execution_count": null,
   "id": "f4ab2b86",
   "metadata": {},
   "outputs": [],
   "source": [
    "# Image size for CNNs like ResNet\n",
    "IMG_SIZE = 224"
   ]
  },
  {
   "cell_type": "code",
   "execution_count": 10,
   "id": "0caac699",
   "metadata": {},
   "outputs": [],
   "source": [
    "# Store images and labels\n",
    "data = []\n",
    "labels = []\n"
   ]
  },
  {
   "cell_type": "code",
   "execution_count": 11,
   "id": "dc4cbb37",
   "metadata": {},
   "outputs": [
    {
     "ename": "FileNotFoundError",
     "evalue": "[WinError 3] The system cannot find the path specified: 'data'",
     "output_type": "error",
     "traceback": [
      "\u001b[31m---------------------------------------------------------------------------\u001b[39m",
      "\u001b[31mFileNotFoundError\u001b[39m                         Traceback (most recent call last)",
      "\u001b[36mCell\u001b[39m\u001b[36m \u001b[39m\u001b[32mIn[11]\u001b[39m\u001b[32m, line 2\u001b[39m\n\u001b[32m      1\u001b[39m \u001b[38;5;28;01mimport\u001b[39;00m\u001b[38;5;250m \u001b[39m\u001b[34;01mos\u001b[39;00m\n\u001b[32m----> \u001b[39m\u001b[32m2\u001b[39m \u001b[38;5;28mprint\u001b[39m(\u001b[43mos\u001b[49m\u001b[43m.\u001b[49m\u001b[43mlistdir\u001b[49m\u001b[43m(\u001b[49m\u001b[33;43m\"\u001b[39;49m\u001b[33;43mdata\u001b[39;49m\u001b[33;43m\"\u001b[39;49m\u001b[43m)\u001b[49m)\n",
      "\u001b[31mFileNotFoundError\u001b[39m: [WinError 3] The system cannot find the path specified: 'data'"
     ]
    }
   ],
   "source": [
    "import os\n",
    "print(os.listdir(\"data\"))\n"
   ]
  },
  {
   "cell_type": "code",
   "execution_count": null,
   "id": "219f0cc5",
   "metadata": {},
   "outputs": [],
   "source": [
    "# Load images from each category\n",
    "\n",
    "for category in CATEGORIES:\n",
    "    folder_path = os.path.join(DATASET_PATH, category)\n",
    "    class_index = CATEGORIES.index(category)  # Assign a label (0,1,2,3)\n",
    "\n",
    "    for img_name in tqdm(os.listdir(folder_path), desc=f\"Processing {category}\"):\n",
    "        img_path = os.path.join(folder_path, img_name)\n",
    "        try:\n",
    "            # Read and resize image\n",
    "            img = cv2.imread(img_path)\n",
    "            img = cv2.cvtColor(img, cv2.COLOR_BGR2RGB)  # Convert BGR to RGB\n",
    "            img = cv2.resize(img, (IMG_SIZE, IMG_SIZE))  # Resize\n",
    "            \n",
    "            # Normalize pixels (0 to 1 range)\n",
    "            img = img / 255.0\n",
    "\n",
    "            # Append to dataset\n",
    "            data.append(img)\n",
    "            labels.append(class_index)\n",
    "        except Exception as e:\n",
    "            print(f\"Error loading image {img_path}: {e}\")\n"
   ]
  },
  {
   "cell_type": "code",
   "execution_count": null,
   "id": "20b8cb42",
   "metadata": {},
   "outputs": [],
   "source": [
    "# Convert lists to numpy arrays\n",
    "data = np.array(data, dtype=\"float32\")\n",
    "labels = np.array(labels)"
   ]
  },
  {
   "cell_type": "code",
   "execution_count": null,
   "id": "512bd149",
   "metadata": {},
   "outputs": [],
   "source": [
    "# Split into Train (70%), Validation (20%), and Test (10%)\n",
    "X_train, X_temp, y_train, y_temp = train_test_split(data, labels, test_size=0.3, stratify=labels, random_state=42)\n",
    "X_val, X_test, y_val, y_test = train_test_split(X_temp, y_temp, test_size=0.33, stratify=y_temp, random_state=42)\n",
    "\n",
    "print(f\"Training samples: {len(X_train)}\")\n",
    "print(f\"Validation samples: {len(X_val)}\")\n",
    "print(f\"Test samples: {len(X_test)}\")"
   ]
  },
  {
   "cell_type": "code",
   "execution_count": null,
   "id": "ea23b4e3",
   "metadata": {},
   "outputs": [],
   "source": [
    "# Data Augmentation for Training Data\n",
    "datagen = ImageDataGenerator(\n",
    "    rotation_range=20,\n",
    "    width_shift_range=0.1,\n",
    "    height_shift_range=0.1,\n",
    "    horizontal_flip=True,\n",
    "    zoom_range=0.2,\n",
    "    brightness_range=[0.8, 1.2]\n",
    ")"
   ]
  },
  {
   "cell_type": "code",
   "execution_count": null,
   "id": "c742a73a",
   "metadata": {},
   "outputs": [],
   "source": [
    "# ✅ Save all data in a Pickle file\n",
    "with open(\"data.pkl\", \"wb\") as f:\n",
    "    pickle.dump({\n",
    "        \"X_train\": X_train, \"y_train\": y_train,\n",
    "        \"X_val\": X_val, \"y_val\": y_val,\n",
    "        \"X_test\": X_test, \"y_test\": y_test\n",
    "    }, f)\n",
    "\n",
    "print(\"✅ Preprocessing Completed & Data Saved in data.pkl!\")"
   ]
  },
  {
   "cell_type": "markdown",
   "id": "ce66ed97",
   "metadata": {},
   "source": [
    "***Data model training***\n"
   ]
  },
  {
   "cell_type": "code",
   "execution_count": null,
   "id": "a05bb85b",
   "metadata": {},
   "outputs": [],
   "source": [
    "from tensorflow.keras.applications import MobileNetV2\n",
    "from tensorflow.keras.models import Model\n",
    "from tensorflow.keras.layers import Dense, GlobalAveragePooling2D\n",
    "    \n",
    "from keras.callbacks import EarlyStopping, ModelCheckpoint, CSVLogger\n",
    "from sklearn.metrics import classification_report, confusion_matrix\n",
    "\n",
    "import seaborn as sns\n",
    "import matplotlib.pyplot as plt\n"
   ]
  },
  {
   "cell_type": "code",
   "execution_count": null,
   "id": "78cd2eb7",
   "metadata": {},
   "outputs": [],
   "source": [
    "# Load data\n",
    "with open(\"data.pkl\", \"rb\") as f:\n",
    "    data = pickle.load(f)\n",
    "    \n",
    "X_train, y_train = data[\"X_train\"], data[\"y_train\"]\n",
    "X_val, y_val = data[\"X_val\"], data[\"y_val\"]\n",
    "X_test, y_test = data[\"X_test\"], data[\"y_test\"]\n"
   ]
  },
  {
   "cell_type": "code",
   "execution_count": null,
   "id": "c4636162",
   "metadata": {},
   "outputs": [],
   "source": [
    "# Load base model\n",
    "base_model = MobileNetV2(weights='imagenet', include_top=False, input_shape=(224, 224, 3))\n",
    "base_model.trainable = False  # Freeze base"
   ]
  },
  {
   "cell_type": "code",
   "execution_count": null,
   "id": "d785cf20",
   "metadata": {},
   "outputs": [],
   "source": [
    "# Add custom layers\n",
    "x = base_model.output\n",
    "x = GlobalAveragePooling2D()(x)\n",
    "x = Dense(128, activation='relu')(x)\n",
    "output = Dense(4, activation='softmax')(x)\n",
    "\n",
    "model = Model(inputs=base_model.input, outputs=output)\n",
    "model.compile(optimizer='adam', loss='sparse_categorical_crossentropy', metrics=['accuracy'])\n"
   ]
  },
  {
   "cell_type": "code",
   "execution_count": null,
   "id": "f6e743a9",
   "metadata": {},
   "outputs": [],
   "source": [
    "# Define callbacks\n",
    "callbacks = [\n",
    "    EarlyStopping(monitor='val_loss', patience=3, restore_best_weights=True),\n",
    "    ModelCheckpoint(\"best_model.h5\", save_best_only=True),\n",
    "    CSVLogger(\"training_log.csv\")\n",
    "]"
   ]
  },
  {
   "cell_type": "code",
   "execution_count": null,
   "id": "f2339a1f",
   "metadata": {},
   "outputs": [],
   "source": [
    "# Train model\n",
    "model.fit(X_train, y_train, epochs=20, validation_data=(X_val, y_val), callbacks=callbacks)\n"
   ]
  },
  {
   "cell_type": "code",
   "execution_count": null,
   "id": "a646c9ec",
   "metadata": {},
   "outputs": [],
   "source": [
    "# Evaluate model\n",
    "test_loss, test_acc = model.evaluate(X_test, y_test)\n",
    "print(f\"✅ Test Accuracy: {test_acc:.4f}\")"
   ]
  },
  {
   "cell_type": "code",
   "execution_count": null,
   "id": "7085de46",
   "metadata": {},
   "outputs": [],
   "source": [
    "# Predict and show classification report\n",
    "y_pred = model.predict(X_test).argmax(axis=1)\n",
    "print(classification_report(y_test, y_pred, target_names=[\"Blight\", \"Common_Rust\", \"Gray_Leaf_Spot\", \"Healthy\"]))"
   ]
  },
  {
   "cell_type": "code",
   "execution_count": null,
   "id": "0b3fee98",
   "metadata": {},
   "outputs": [],
   "source": [
    "# Confusion matrix\n",
    "from sklearn.metrics import confusion_matrix\n",
    "\n",
    "cm = confusion_matrix(y_test, y_pred)\n",
    "sns.heatmap(cm, annot=True, fmt='d', cmap='Blues', xticklabels=CATEGORIES, yticklabels=CATEGORIES)\n",
    "plt.xlabel(\"Predicted\")\n",
    "plt.ylabel(\"True\")\n",
    "plt.title(\"Confusion Matrix\")\n",
    "plt.show()"
   ]
  }
 ],
 "metadata": {
  "kernelspec": {
   "display_name": "Python (maize-env)",
   "language": "python",
   "name": "maize-env"
  },
  "language_info": {
   "codemirror_mode": {
    "name": "ipython",
    "version": 3
   },
   "file_extension": ".py",
   "mimetype": "text/x-python",
   "name": "python",
   "nbconvert_exporter": "python",
   "pygments_lexer": "ipython3",
   "version": "3.11.5"
  }
 },
 "nbformat": 4,
 "nbformat_minor": 5
}
